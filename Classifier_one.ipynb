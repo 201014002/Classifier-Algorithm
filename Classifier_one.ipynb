{
 "cells": [
  {
   "cell_type": "code",
   "execution_count": 12,
   "id": "0bda1967",
   "metadata": {},
   "outputs": [],
   "source": [
    "from sklearn import tree"
   ]
  },
  {
   "cell_type": "code",
   "execution_count": 13,
   "id": "6a13c38c",
   "metadata": {},
   "outputs": [],
   "source": [
    "labels=[0,0,1,1,0]\n",
    "features=[[0,50],[0,15000],[4,5],[4,6],[0,0.15]]"
   ]
  },
  {
   "cell_type": "code",
   "execution_count": 14,
   "id": "ede08304",
   "metadata": {},
   "outputs": [],
   "source": [
    "algorithm=tree.DecisionTreeClassifier()\n",
    "algorithm=algorithm.fit(features,labels)"
   ]
  },
  {
   "cell_type": "code",
   "execution_count": 15,
   "id": "7cefff69",
   "metadata": {},
   "outputs": [],
   "source": [
    "newData=[[4,6]]"
   ]
  },
  {
   "cell_type": "code",
   "execution_count": 16,
   "id": "4421f7e7",
   "metadata": {},
   "outputs": [
    {
     "name": "stdout",
     "output_type": "stream",
     "text": [
      "[1]\n"
     ]
    }
   ],
   "source": [
    "print(algorithm.predict(newData))"
   ]
  },
  {
   "cell_type": "code",
   "execution_count": null,
   "id": "2d67f649",
   "metadata": {},
   "outputs": [],
   "source": []
  }
 ],
 "metadata": {
  "kernelspec": {
   "display_name": "Python 3 (ipykernel)",
   "language": "python",
   "name": "python3"
  },
  "language_info": {
   "codemirror_mode": {
    "name": "ipython",
    "version": 3
   },
   "file_extension": ".py",
   "mimetype": "text/x-python",
   "name": "python",
   "nbconvert_exporter": "python",
   "pygments_lexer": "ipython3",
   "version": "3.11.5"
  }
 },
 "nbformat": 4,
 "nbformat_minor": 5
}
