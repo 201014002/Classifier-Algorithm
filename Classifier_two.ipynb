{
 "cells": [
  {
   "cell_type": "code",
   "execution_count": 1,
   "id": "61de87a9",
   "metadata": {},
   "outputs": [],
   "source": [
    "from sklearn import tree"
   ]
  },
  {
   "cell_type": "code",
   "execution_count": 2,
   "id": "a9435a23",
   "metadata": {},
   "outputs": [],
   "source": [
    "labels = [0,0,1,0,1,1,0,0]\n",
    "features = [[2,2],[2,2],[3,4],[2,2],[4,4],[4,4],[3,2],[2,2]]"
   ]
  },
  {
   "cell_type": "code",
   "execution_count": 3,
   "id": "fa4ec2f2",
   "metadata": {},
   "outputs": [],
   "source": [
    "algorithm = tree.DecisionTreeClassifier()       \n",
    "algorithm = algorithm.fit(features, labels)"
   ]
  },
  {
   "cell_type": "code",
   "execution_count": 6,
   "id": "75d02917",
   "metadata": {},
   "outputs": [
    {
     "name": "stdout",
     "output_type": "stream",
     "text": [
      "[1]\n"
     ]
    }
   ],
   "source": [
    "newData = [[4,4]]\n",
    "print(algorithm.predict(newData))"
   ]
  },
  {
   "cell_type": "code",
   "execution_count": null,
   "id": "016d1a62",
   "metadata": {},
   "outputs": [],
   "source": []
  }
 ],
 "metadata": {
  "kernelspec": {
   "display_name": "Python 3 (ipykernel)",
   "language": "python",
   "name": "python3"
  },
  "language_info": {
   "codemirror_mode": {
    "name": "ipython",
    "version": 3
   },
   "file_extension": ".py",
   "mimetype": "text/x-python",
   "name": "python",
   "nbconvert_exporter": "python",
   "pygments_lexer": "ipython3",
   "version": "3.11.5"
  }
 },
 "nbformat": 4,
 "nbformat_minor": 5
}
